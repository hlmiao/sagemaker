{
 "cells": [
  {
   "cell_type": "markdown",
   "metadata": {},
   "source": [
    "# 1. 安装和加载使用Step Functions Data Science SDK必需的模块"
   ]
  },
  {
   "cell_type": "code",
   "execution_count": null,
   "metadata": {},
   "outputs": [],
   "source": [
    "import sys\n",
    "!{sys.executable} -m pip install --upgrade stepfunctions"
   ]
  },
  {
   "cell_type": "code",
   "execution_count": 120,
   "metadata": {},
   "outputs": [],
   "source": [
    "import sagemaker\n",
    "import time\n",
    "import random\n",
    "import uuid\n",
    "import logging\n",
    "import stepfunctions\n",
    "import io\n",
    "\n",
    "from stepfunctions import steps\n",
    "from stepfunctions.steps import TransformStep\n",
    "from stepfunctions.inputs import ExecutionInput\n",
    "from stepfunctions.workflow import Workflow\n",
    "from stepfunctions.template import TrainingPipeline\n",
    "from stepfunctions.template.utils import replace_parameters_with_jsonpath\n",
    "\n",
    "session = sagemaker.Session()\n",
    "stepfunctions.set_stream_logger(level=logging.INFO)\n",
    "\n",
    "##定义Sagemaker的路径\n",
    "bucket = 'sagemaker-cn-north-1-1234567890'\n",
    "prefix = 'demo'\n",
    "bucket_path = 's3://sagemaker-cn-north-1-1234567890'"
   ]
  },
  {
   "cell_type": "markdown",
   "metadata": {},
   "source": [
    "# 2. 创建一个Role附加到Step Functions"
   ]
  },
  {
   "cell_type": "markdown",
   "metadata": {},
   "source": [
    "## 2.1 关联的策略如下所示，并将策略附加到创建的Role"
   ]
  },
  {
   "cell_type": "code",
   "execution_count": null,
   "metadata": {},
   "outputs": [],
   "source": [
    "{\n",
    "    \"Version\": \"2012-10-17\",\n",
    "    \"Statement\": [\n",
    "        {\n",
    "            \"Effect\": \"Allow\",\n",
    "            \"Action\": [\n",
    "                \"sagemaker:CreateTransformJob\",\n",
    "                \"sagemaker:DescribeTransformJob\",\n",
    "                \"sagemaker:StopTransformJob\",\n",
    "                \"sagemaker:CreateTrainingJob\",\n",
    "                \"sagemaker:DescribeTrainingJob\",\n",
    "                \"sagemaker:StopTrainingJob\",\n",
    "                \"sagemaker:CreateHyperParameterTuningJob\",\n",
    "                \"sagemaker:DescribeHyperParameterTuningJob\",\n",
    "                \"sagemaker:StopHyperParameterTuningJob\",\n",
    "                \"sagemaker:CreateModel\",\n",
    "                \"sagemaker:CreateEndpointConfig\",\n",
    "                \"sagemaker:CreateEndpoint\",\n",
    "                \"sagemaker:DeleteEndpointConfig\",\n",
    "                \"sagemaker:DeleteEndpoint\",\n",
    "                \"sagemaker:UpdateEndpoint\",\n",
    "                \"sagemaker:ListTags\",\n",
    "                \"sqs:SendMessage\",\n",
    "                \"sns:Publish\",\n",
    "                \"ecs:RunTask\",\n",
    "                \"ecs:StopTask\",\n",
    "                \"ecs:DescribeTasks\",\n",
    "                \"glue:StartJobRun\",\n",
    "                \"glue:GetJobRun\",\n",
    "                \"glue:GetJobRuns\",\n",
    "                \"glue:BatchStopJobRun\"\n",
    "            ],\n",
    "            \"Resource\": \"*\"\n",
    "        },\n",
    "        {\n",
    "            \"Effect\": \"Allow\",\n",
    "            \"Action\": [\n",
    "                \"iam:PassRole\"\n",
    "            ],\n",
    "            \"Resource\": \"*\",\n",
    "            \"Condition\": {\n",
    "                \"StringEquals\": {\n",
    "                    \"iam:PassedToService\": \"sagemaker.amazonaws.com\"\n",
    "                }\n",
    "            }\n",
    "        },\n",
    "        {\n",
    "            \"Effect\": \"Allow\",\n",
    "            \"Action\": [\n",
    "                \"events:PutTargets\",\n",
    "                \"events:PutRule\",\n",
    "                \"events:DescribeRule\"\n",
    "            ],\n",
    "            \"Resource\": [\n",
    "                \"arn:aws:events:*:*:rule/StepFunctionsGetEventsForSageMakerTrainingJobsRule\",\n",
    "                \"arn:aws:events:*:*:rule/StepFunctionsGetEventsForSageMakerTransformJobsRule\",\n",
    "                \"arn:aws:events:*:*:rule/StepFunctionsGetEventsForSageMakerTuningJobsRule\",\n",
    "                \"arn:aws:events:*:*:rule/StepFunctionsGetEventsForECSTaskRule\",\n",
    "                \"arn:aws:events:*:*:rule/StepFunctionsGetEventsForBatchJobsRule\"\n",
    "            ]\n",
    "        }\n",
    "    ]\n",
    "}"
   ]
  },
  {
   "cell_type": "code",
   "execution_count": 95,
   "metadata": {},
   "outputs": [],
   "source": [
    "import sagemaker\n",
    "\n",
    "## SageMaker执行角色\n",
    "sagemaker_execution_role = sagemaker.get_execution_role()\n",
    "\n",
    "## 从上方输出结果粘贴 StepFunctionsWorkflowExecutionRole ARN\n",
    "workflow_execution_role = \"arn:aws-cn:iam::1234567890:role/StepFunctionsWorkflowExecutionRole\" "
   ]
  },
  {
   "cell_type": "markdown",
   "metadata": {},
   "source": [
    "# 3. 读取样本数据和加载模型"
   ]
  },
  {
   "cell_type": "code",
   "execution_count": null,
   "metadata": {},
   "outputs": [],
   "source": [
    "!ls"
   ]
  },
  {
   "cell_type": "code",
   "execution_count": null,
   "metadata": {},
   "outputs": [],
   "source": [
    "%cd /home/ec2-user/SageMaker/"
   ]
  },
  {
   "cell_type": "code",
   "execution_count": null,
   "metadata": {},
   "outputs": [],
   "source": [
    "!pwd"
   ]
  },
  {
   "cell_type": "code",
   "execution_count": null,
   "metadata": {},
   "outputs": [],
   "source": [
    "!pip install xgboost"
   ]
  },
  {
   "cell_type": "code",
   "execution_count": null,
   "metadata": {},
   "outputs": [],
   "source": [
    "!pip install Scikit-learn==0.20.0"
   ]
  },
  {
   "cell_type": "code",
   "execution_count": 96,
   "metadata": {},
   "outputs": [
    {
     "name": "stdout",
     "output_type": "stream",
     "text": [
      "0.20.0\n"
     ]
    }
   ],
   "source": [
    "import sklearn\n",
    "print(sklearn.__version__)"
   ]
  },
  {
   "cell_type": "code",
   "execution_count": 97,
   "metadata": {},
   "outputs": [],
   "source": [
    "import pandas as pd\n",
    "import numpy as np\n",
    "import s3fs\n",
    "\n",
    "from xgboost import XGBClassifier\n",
    "\n",
    "from sklearn.externals import joblib\n",
    "##import joblib\n",
    "\n",
    "import warnings\n",
    "warnings.filterwarnings('ignore')"
   ]
  },
  {
   "cell_type": "code",
   "execution_count": 98,
   "metadata": {},
   "outputs": [],
   "source": [
    "data_sample = pd.read_csv('sample_data.csv')"
   ]
  },
  {
   "cell_type": "code",
   "execution_count": 99,
   "metadata": {},
   "outputs": [
    {
     "data": {
      "text/html": [
       "<div>\n",
       "<style scoped>\n",
       "    .dataframe tbody tr th:only-of-type {\n",
       "        vertical-align: middle;\n",
       "    }\n",
       "\n",
       "    .dataframe tbody tr th {\n",
       "        vertical-align: top;\n",
       "    }\n",
       "\n",
       "    .dataframe thead th {\n",
       "        text-align: right;\n",
       "    }\n",
       "</style>\n",
       "<table border=\"1\" class=\"dataframe\">\n",
       "  <thead>\n",
       "    <tr style=\"text-align: right;\">\n",
       "      <th></th>\n",
       "      <th>cust_id</th>\n",
       "      <th>trade_amt_last6m</th>\n",
       "      <th>pur_amt_online_last6m</th>\n",
       "      <th>pur_cnt_online_last6m</th>\n",
       "      <th>trade_amt_last3m</th>\n",
       "      <th>redem_cnt_online_last6m</th>\n",
       "      <th>pur_amt_last6m_growth</th>\n",
       "      <th>pur_amt_last6m_main</th>\n",
       "      <th>pur_amt_last1y_bond</th>\n",
       "      <th>mv_ttl_bond_type_avg_last3m</th>\n",
       "      <th>...</th>\n",
       "      <th>zz_cnt</th>\n",
       "      <th>pur_amt_last1m_stock</th>\n",
       "      <th>ret_rate_last2y_bond</th>\n",
       "      <th>pur_amt_last1y_award</th>\n",
       "      <th>fund_cnt_stock_type</th>\n",
       "      <th>pur_cnt_last1y_award</th>\n",
       "      <th>redem_amt_last1y_growth</th>\n",
       "      <th>redem_cnt_last1y_growth</th>\n",
       "      <th>pur_cnt_last6m_alltrack</th>\n",
       "      <th>p_dt</th>\n",
       "    </tr>\n",
       "  </thead>\n",
       "  <tbody>\n",
       "    <tr>\n",
       "      <th>0</th>\n",
       "      <td>1069553680</td>\n",
       "      <td>0.00</td>\n",
       "      <td>0.0</td>\n",
       "      <td>0</td>\n",
       "      <td>0.00</td>\n",
       "      <td>0</td>\n",
       "      <td>0.0</td>\n",
       "      <td>0.0</td>\n",
       "      <td>0.0</td>\n",
       "      <td>0.000000</td>\n",
       "      <td>...</td>\n",
       "      <td>0</td>\n",
       "      <td>0.0</td>\n",
       "      <td>0.000000</td>\n",
       "      <td>0.0</td>\n",
       "      <td>1</td>\n",
       "      <td>0</td>\n",
       "      <td>0.00</td>\n",
       "      <td>0</td>\n",
       "      <td>0</td>\n",
       "      <td>20201231</td>\n",
       "    </tr>\n",
       "    <tr>\n",
       "      <th>1</th>\n",
       "      <td>1069554929</td>\n",
       "      <td>1500.00</td>\n",
       "      <td>0.0</td>\n",
       "      <td>0</td>\n",
       "      <td>900.00</td>\n",
       "      <td>0</td>\n",
       "      <td>0.0</td>\n",
       "      <td>0.0</td>\n",
       "      <td>0.0</td>\n",
       "      <td>0.000000</td>\n",
       "      <td>...</td>\n",
       "      <td>4</td>\n",
       "      <td>0.0</td>\n",
       "      <td>0.000000</td>\n",
       "      <td>0.0</td>\n",
       "      <td>1</td>\n",
       "      <td>0</td>\n",
       "      <td>11215.68</td>\n",
       "      <td>1</td>\n",
       "      <td>0</td>\n",
       "      <td>20201231</td>\n",
       "    </tr>\n",
       "    <tr>\n",
       "      <th>2</th>\n",
       "      <td>1069555867</td>\n",
       "      <td>108483.67</td>\n",
       "      <td>7800.0</td>\n",
       "      <td>3</td>\n",
       "      <td>33341.17</td>\n",
       "      <td>5</td>\n",
       "      <td>5800.0</td>\n",
       "      <td>7800.0</td>\n",
       "      <td>0.0</td>\n",
       "      <td>0.000000</td>\n",
       "      <td>...</td>\n",
       "      <td>5</td>\n",
       "      <td>0.0</td>\n",
       "      <td>0.000000</td>\n",
       "      <td>52800.0</td>\n",
       "      <td>2</td>\n",
       "      <td>22</td>\n",
       "      <td>53884.83</td>\n",
       "      <td>3</td>\n",
       "      <td>0</td>\n",
       "      <td>20201231</td>\n",
       "    </tr>\n",
       "    <tr>\n",
       "      <th>3</th>\n",
       "      <td>1069561326</td>\n",
       "      <td>100.00</td>\n",
       "      <td>100.0</td>\n",
       "      <td>1</td>\n",
       "      <td>100.00</td>\n",
       "      <td>0</td>\n",
       "      <td>0.0</td>\n",
       "      <td>0.0</td>\n",
       "      <td>100.0</td>\n",
       "      <td>100.091416</td>\n",
       "      <td>...</td>\n",
       "      <td>0</td>\n",
       "      <td>0.0</td>\n",
       "      <td>0.001918</td>\n",
       "      <td>0.0</td>\n",
       "      <td>0</td>\n",
       "      <td>0</td>\n",
       "      <td>0.00</td>\n",
       "      <td>0</td>\n",
       "      <td>0</td>\n",
       "      <td>20201231</td>\n",
       "    </tr>\n",
       "    <tr>\n",
       "      <th>4</th>\n",
       "      <td>1069568341</td>\n",
       "      <td>0.00</td>\n",
       "      <td>0.0</td>\n",
       "      <td>0</td>\n",
       "      <td>0.00</td>\n",
       "      <td>0</td>\n",
       "      <td>0.0</td>\n",
       "      <td>0.0</td>\n",
       "      <td>0.0</td>\n",
       "      <td>47852.314580</td>\n",
       "      <td>...</td>\n",
       "      <td>0</td>\n",
       "      <td>0.0</td>\n",
       "      <td>0.004741</td>\n",
       "      <td>0.0</td>\n",
       "      <td>0</td>\n",
       "      <td>0</td>\n",
       "      <td>0.00</td>\n",
       "      <td>0</td>\n",
       "      <td>0</td>\n",
       "      <td>20201231</td>\n",
       "    </tr>\n",
       "    <tr>\n",
       "      <th>...</th>\n",
       "      <td>...</td>\n",
       "      <td>...</td>\n",
       "      <td>...</td>\n",
       "      <td>...</td>\n",
       "      <td>...</td>\n",
       "      <td>...</td>\n",
       "      <td>...</td>\n",
       "      <td>...</td>\n",
       "      <td>...</td>\n",
       "      <td>...</td>\n",
       "      <td>...</td>\n",
       "      <td>...</td>\n",
       "      <td>...</td>\n",
       "      <td>...</td>\n",
       "      <td>...</td>\n",
       "      <td>...</td>\n",
       "      <td>...</td>\n",
       "      <td>...</td>\n",
       "      <td>...</td>\n",
       "      <td>...</td>\n",
       "      <td>...</td>\n",
       "    </tr>\n",
       "    <tr>\n",
       "      <th>9995</th>\n",
       "      <td>1113893142</td>\n",
       "      <td>2800.00</td>\n",
       "      <td>0.0</td>\n",
       "      <td>0</td>\n",
       "      <td>1300.00</td>\n",
       "      <td>0</td>\n",
       "      <td>0.0</td>\n",
       "      <td>0.0</td>\n",
       "      <td>0.0</td>\n",
       "      <td>0.000000</td>\n",
       "      <td>...</td>\n",
       "      <td>2</td>\n",
       "      <td>0.0</td>\n",
       "      <td>0.000000</td>\n",
       "      <td>0.0</td>\n",
       "      <td>1</td>\n",
       "      <td>0</td>\n",
       "      <td>0.00</td>\n",
       "      <td>0</td>\n",
       "      <td>0</td>\n",
       "      <td>20201231</td>\n",
       "    </tr>\n",
       "    <tr>\n",
       "      <th>9996</th>\n",
       "      <td>1113894480</td>\n",
       "      <td>910.39</td>\n",
       "      <td>470.0</td>\n",
       "      <td>8</td>\n",
       "      <td>30.00</td>\n",
       "      <td>1</td>\n",
       "      <td>470.0</td>\n",
       "      <td>0.0</td>\n",
       "      <td>0.0</td>\n",
       "      <td>0.000000</td>\n",
       "      <td>...</td>\n",
       "      <td>2</td>\n",
       "      <td>0.0</td>\n",
       "      <td>0.000000</td>\n",
       "      <td>0.0</td>\n",
       "      <td>1</td>\n",
       "      <td>0</td>\n",
       "      <td>440.39</td>\n",
       "      <td>1</td>\n",
       "      <td>0</td>\n",
       "      <td>20201231</td>\n",
       "    </tr>\n",
       "    <tr>\n",
       "      <th>9997</th>\n",
       "      <td>1113895116</td>\n",
       "      <td>3750.00</td>\n",
       "      <td>0.0</td>\n",
       "      <td>0</td>\n",
       "      <td>1250.00</td>\n",
       "      <td>0</td>\n",
       "      <td>3750.0</td>\n",
       "      <td>0.0</td>\n",
       "      <td>0.0</td>\n",
       "      <td>0.000000</td>\n",
       "      <td>...</td>\n",
       "      <td>3</td>\n",
       "      <td>400.0</td>\n",
       "      <td>0.000000</td>\n",
       "      <td>0.0</td>\n",
       "      <td>1</td>\n",
       "      <td>0</td>\n",
       "      <td>0.00</td>\n",
       "      <td>0</td>\n",
       "      <td>0</td>\n",
       "      <td>20201231</td>\n",
       "    </tr>\n",
       "    <tr>\n",
       "      <th>9998</th>\n",
       "      <td>1113895561</td>\n",
       "      <td>1500.00</td>\n",
       "      <td>1500.0</td>\n",
       "      <td>3</td>\n",
       "      <td>0.00</td>\n",
       "      <td>0</td>\n",
       "      <td>1500.0</td>\n",
       "      <td>1500.0</td>\n",
       "      <td>0.0</td>\n",
       "      <td>0.000000</td>\n",
       "      <td>...</td>\n",
       "      <td>1</td>\n",
       "      <td>0.0</td>\n",
       "      <td>0.000000</td>\n",
       "      <td>1500.0</td>\n",
       "      <td>1</td>\n",
       "      <td>3</td>\n",
       "      <td>0.00</td>\n",
       "      <td>0</td>\n",
       "      <td>3</td>\n",
       "      <td>20201231</td>\n",
       "    </tr>\n",
       "    <tr>\n",
       "      <th>9999</th>\n",
       "      <td>1113895563</td>\n",
       "      <td>10000.00</td>\n",
       "      <td>10000.0</td>\n",
       "      <td>1</td>\n",
       "      <td>0.00</td>\n",
       "      <td>0</td>\n",
       "      <td>10000.0</td>\n",
       "      <td>10000.0</td>\n",
       "      <td>0.0</td>\n",
       "      <td>0.000000</td>\n",
       "      <td>...</td>\n",
       "      <td>1</td>\n",
       "      <td>0.0</td>\n",
       "      <td>0.000000</td>\n",
       "      <td>0.0</td>\n",
       "      <td>1</td>\n",
       "      <td>0</td>\n",
       "      <td>0.00</td>\n",
       "      <td>0</td>\n",
       "      <td>1</td>\n",
       "      <td>20201231</td>\n",
       "    </tr>\n",
       "  </tbody>\n",
       "</table>\n",
       "<p>10000 rows × 74 columns</p>\n",
       "</div>"
      ],
      "text/plain": [
       "         cust_id  trade_amt_last6m  pur_amt_online_last6m  \\\n",
       "0     1069553680              0.00                    0.0   \n",
       "1     1069554929           1500.00                    0.0   \n",
       "2     1069555867         108483.67                 7800.0   \n",
       "3     1069561326            100.00                  100.0   \n",
       "4     1069568341              0.00                    0.0   \n",
       "...          ...               ...                    ...   \n",
       "9995  1113893142           2800.00                    0.0   \n",
       "9996  1113894480            910.39                  470.0   \n",
       "9997  1113895116           3750.00                    0.0   \n",
       "9998  1113895561           1500.00                 1500.0   \n",
       "9999  1113895563          10000.00                10000.0   \n",
       "\n",
       "      pur_cnt_online_last6m  trade_amt_last3m  redem_cnt_online_last6m  \\\n",
       "0                         0              0.00                        0   \n",
       "1                         0            900.00                        0   \n",
       "2                         3          33341.17                        5   \n",
       "3                         1            100.00                        0   \n",
       "4                         0              0.00                        0   \n",
       "...                     ...               ...                      ...   \n",
       "9995                      0           1300.00                        0   \n",
       "9996                      8             30.00                        1   \n",
       "9997                      0           1250.00                        0   \n",
       "9998                      3              0.00                        0   \n",
       "9999                      1              0.00                        0   \n",
       "\n",
       "      pur_amt_last6m_growth  pur_amt_last6m_main  pur_amt_last1y_bond  \\\n",
       "0                       0.0                  0.0                  0.0   \n",
       "1                       0.0                  0.0                  0.0   \n",
       "2                    5800.0               7800.0                  0.0   \n",
       "3                       0.0                  0.0                100.0   \n",
       "4                       0.0                  0.0                  0.0   \n",
       "...                     ...                  ...                  ...   \n",
       "9995                    0.0                  0.0                  0.0   \n",
       "9996                  470.0                  0.0                  0.0   \n",
       "9997                 3750.0                  0.0                  0.0   \n",
       "9998                 1500.0               1500.0                  0.0   \n",
       "9999                10000.0              10000.0                  0.0   \n",
       "\n",
       "      mv_ttl_bond_type_avg_last3m  ...  zz_cnt  pur_amt_last1m_stock  \\\n",
       "0                        0.000000  ...       0                   0.0   \n",
       "1                        0.000000  ...       4                   0.0   \n",
       "2                        0.000000  ...       5                   0.0   \n",
       "3                      100.091416  ...       0                   0.0   \n",
       "4                    47852.314580  ...       0                   0.0   \n",
       "...                           ...  ...     ...                   ...   \n",
       "9995                     0.000000  ...       2                   0.0   \n",
       "9996                     0.000000  ...       2                   0.0   \n",
       "9997                     0.000000  ...       3                 400.0   \n",
       "9998                     0.000000  ...       1                   0.0   \n",
       "9999                     0.000000  ...       1                   0.0   \n",
       "\n",
       "      ret_rate_last2y_bond  pur_amt_last1y_award  fund_cnt_stock_type  \\\n",
       "0                 0.000000                   0.0                    1   \n",
       "1                 0.000000                   0.0                    1   \n",
       "2                 0.000000               52800.0                    2   \n",
       "3                 0.001918                   0.0                    0   \n",
       "4                 0.004741                   0.0                    0   \n",
       "...                    ...                   ...                  ...   \n",
       "9995              0.000000                   0.0                    1   \n",
       "9996              0.000000                   0.0                    1   \n",
       "9997              0.000000                   0.0                    1   \n",
       "9998              0.000000                1500.0                    1   \n",
       "9999              0.000000                   0.0                    1   \n",
       "\n",
       "      pur_cnt_last1y_award  redem_amt_last1y_growth  redem_cnt_last1y_growth  \\\n",
       "0                        0                     0.00                        0   \n",
       "1                        0                 11215.68                        1   \n",
       "2                       22                 53884.83                        3   \n",
       "3                        0                     0.00                        0   \n",
       "4                        0                     0.00                        0   \n",
       "...                    ...                      ...                      ...   \n",
       "9995                     0                     0.00                        0   \n",
       "9996                     0                   440.39                        1   \n",
       "9997                     0                     0.00                        0   \n",
       "9998                     3                     0.00                        0   \n",
       "9999                     0                     0.00                        0   \n",
       "\n",
       "      pur_cnt_last6m_alltrack      p_dt  \n",
       "0                           0  20201231  \n",
       "1                           0  20201231  \n",
       "2                           0  20201231  \n",
       "3                           0  20201231  \n",
       "4                           0  20201231  \n",
       "...                       ...       ...  \n",
       "9995                        0  20201231  \n",
       "9996                        0  20201231  \n",
       "9997                        0  20201231  \n",
       "9998                        3  20201231  \n",
       "9999                        1  20201231  \n",
       "\n",
       "[10000 rows x 74 columns]"
      ]
     },
     "execution_count": 99,
     "metadata": {},
     "output_type": "execute_result"
    }
   ],
   "source": [
    "data_sample"
   ]
  },
  {
   "cell_type": "code",
   "execution_count": 100,
   "metadata": {},
   "outputs": [],
   "source": [
    "xgb_clf = joblib.load('loss_warning_model.pkl')"
   ]
  },
  {
   "cell_type": "code",
   "execution_count": 101,
   "metadata": {},
   "outputs": [],
   "source": [
    "data_sample_new = data_sample.drop(['cust_id'],axis=1)"
   ]
  },
  {
   "cell_type": "code",
   "execution_count": 102,
   "metadata": {},
   "outputs": [],
   "source": [
    "data_sample_new = data_sample_new.drop(['p_dt'],axis=1)"
   ]
  },
  {
   "cell_type": "code",
   "execution_count": 103,
   "metadata": {},
   "outputs": [],
   "source": [
    "y_pred = xgb_clf.predict_proba(data_sample_new.iloc[:,:].values)[:,1]"
   ]
  },
  {
   "cell_type": "code",
   "execution_count": 104,
   "metadata": {},
   "outputs": [],
   "source": [
    "yy_pred = xgb_clf.predict(data_sample_new.iloc[:,:].values)"
   ]
  },
  {
   "cell_type": "markdown",
   "metadata": {},
   "source": [
    "# 4. 准备工作 BYOC（执行一次）"
   ]
  },
  {
   "cell_type": "markdown",
   "metadata": {},
   "source": [
    "## 4.1 打包容器&推送容器到ECR"
   ]
  },
  {
   "cell_type": "code",
   "execution_count": null,
   "metadata": {},
   "outputs": [],
   "source": [
    "import os\n",
    "\n",
    "import boto3\n",
    "import sagemaker\n",
    "from sagemaker import get_execution_role\n",
    "\n",
    "region = boto3.session.Session().region_name\n",
    "bucket = 'sagemaker-cn-north-1-1234567890'\n",
    "prefix = 'demo'\n",
    "role = get_execution_role()"
   ]
  },
  {
   "cell_type": "code",
   "execution_count": null,
   "metadata": {},
   "outputs": [],
   "source": [
    "%%writefile Dockerfile\n",
    "\n",
    "From 450853457545.dkr.ecr.cn-north-1.amazonaws.com.cn/sagemaker-scikit-learn:0.20.0-cpu-py3\n",
    "RUN pip install xgboost"
   ]
  },
  {
   "cell_type": "code",
   "execution_count": null,
   "metadata": {},
   "outputs": [],
   "source": [
    "account_id = boto3.client('sts').get_caller_identity().get('Account')\n",
    "ecr_repository = 'sagemaker-batch-transform-demo'\n",
    "tag = ':latest'\n",
    "uri_suffix = 'amazonaws.com'\n",
    "if region in ['cn-north-1', 'cn-northwest-1']:\n",
    "    uri_suffix = 'amazonaws.com.cn'\n",
    "processing_repository_uri = '{}.dkr.ecr.{}.{}/{}'.format(account_id, region, uri_suffix, ecr_repository + tag)\n",
    "print(processing_repository_uri)\n",
    "ecr = '{}.dkr.ecr.{}.{}'.format(account_id, region, uri_suffix)\n",
    "print(ecr)\n",
    "!aws ecr create-repository --repository-name $ecr_repository"
   ]
  },
  {
   "cell_type": "code",
   "execution_count": null,
   "metadata": {},
   "outputs": [],
   "source": [
    "%cd ~/SageMaker/docker"
   ]
  },
  {
   "cell_type": "code",
   "execution_count": null,
   "metadata": {},
   "outputs": [],
   "source": [
    "# if it said no basic auth for pull base image, use below cli (cn-north-1)\n",
    "!aws ecr get-login-password --region $region | docker login --username AWS --password-stdin \n",
    "450853457545.dkr.ecr.cn-north-1.amazonaws.com.cn"
   ]
  },
  {
   "cell_type": "code",
   "execution_count": null,
   "metadata": {},
   "outputs": [],
   "source": [
    "!sudo aws ecr get-login-password --region $region | docker login --username AWS --password-stdin $ecr\n",
    "# Create ECR repository and push docker image\n",
    "!docker build -t $ecr_repository .\n",
    "\n",
    "!docker tag {ecr_repository + tag} $processing_repository_uri\n",
    "!docker push $processing_repository_uri"
   ]
  },
  {
   "cell_type": "markdown",
   "metadata": {},
   "source": [
    "## 4.2 创建模型"
   ]
  },
  {
   "cell_type": "code",
   "execution_count": null,
   "metadata": {},
   "outputs": [],
   "source": [
    "# 打包模型\n",
    "model = 'loss_warning_model.pkl'\n",
    "model_uri = 's3://{}/{}/model/model.tar.gz'.format(bucket, prefix)\n",
    "\n",
    "model_name = 'demo-model-1'\n",
    "\n",
    "model_uri"
   ]
  },
  {
   "cell_type": "code",
   "execution_count": null,
   "metadata": {},
   "outputs": [],
   "source": [
    "# 上传到S3\n",
    "!tar -czf model.tar.gz $model\n",
    "!aws s3 cp model.tar.gz $model_uri"
   ]
  },
  {
   "cell_type": "markdown",
   "metadata": {},
   "source": [
    "## 4.3 推理脚本（打包到SageMaker模型）"
   ]
  },
  {
   "cell_type": "code",
   "execution_count": null,
   "metadata": {},
   "outputs": [],
   "source": [
    "%%writefile transform_script.py\n",
    "\n",
    "import pandas as pd\n",
    "import numpy as np\n",
    "import os\n",
    "from xgboost import XGBClassifier\n",
    "from sklearn.externals import joblib\n",
    "\n",
    "def model_fn(model_dir):\n",
    "    xgb_clf = joblib.load(os.path.join(model_dir,'loss_warning_model.pkl'))\n",
    "    return xgb_clf\n",
    "\n",
    "def predict_fn(input_data, model):\n",
    "    pred_prob = model.predict_proba(input_data)[:,1:] #[:,1]\n",
    "    return pred_prob"
   ]
  },
  {
   "cell_type": "markdown",
   "metadata": {},
   "source": [
    "### 4.3.1 打包代码并上传到S3"
   ]
  },
  {
   "cell_type": "code",
   "execution_count": null,
   "metadata": {},
   "outputs": [],
   "source": [
    "transform_script = 'transform_script.py'\n",
    "code_uri = 's3://{}/{}/code/sourcedir.tar.gz'.format(bucket, prefix)\n",
    "code_uri"
   ]
  },
  {
   "cell_type": "code",
   "execution_count": null,
   "metadata": {},
   "outputs": [],
   "source": [
    "!tar -czf sourcedir.tar.gz $transform_script\n",
    "!aws s3 cp sourcedir.tar.gz $code_uri"
   ]
  },
  {
   "cell_type": "markdown",
   "metadata": {},
   "source": [
    "## 4.4 创建SageMaker模型"
   ]
  },
  {
   "cell_type": "code",
   "execution_count": 81,
   "metadata": {},
   "outputs": [],
   "source": [
    "import boto3\n",
    "\n",
    "client = boto3.client('sagemaker')"
   ]
  },
  {
   "cell_type": "code",
   "execution_count": 82,
   "metadata": {},
   "outputs": [],
   "source": [
    "model_response = client.create_model(\n",
    "    ModelName=model_name,\n",
    "    PrimaryContainer={\n",
    "        'Image': image_uri,\n",
    "        'ImageConfig': {\n",
    "            'RepositoryAccessMode': 'Platform'\n",
    "        },\n",
    "        'Mode': 'SingleModel',\n",
    "        'ModelDataUrl': model_uri,\n",
    "        'Environment': {\n",
    "            'SAGEMAKER_CONTAINER_LOG_LEVEL':'20',\n",
    "            'SAGEMAKER_PROGRAM': transform_script,\n",
    "            'SAGEMAKER_REGION': region,\n",
    "            'SAGEMAKER_SUBMIT_DIRECTORY':code_uri\n",
    "        },\n",
    "    },\n",
    "    ExecutionRoleArn=role,\n",
    "    EnableNetworkIsolation=False\n",
    ")"
   ]
  },
  {
   "cell_type": "markdown",
   "metadata": {},
   "source": [
    "# 5. 每次批量转换需要执行的代码（可执行多次）"
   ]
  },
  {
   "cell_type": "markdown",
   "metadata": {},
   "source": [
    "## 5.1 使用SageMaker Batch Transform"
   ]
  },
  {
   "cell_type": "markdown",
   "metadata": {},
   "source": [
    "### 5.1.1 输出结果不整合输入id"
   ]
  },
  {
   "cell_type": "code",
   "execution_count": 105,
   "metadata": {},
   "outputs": [],
   "source": [
    "from time import gmtime, strftime\n",
    "\n",
    "# This file doesn't contain header\n",
    "data_file = 'sample_data_noheader.csv'\n",
    "\n",
    "batch_job_name = 'Batch-Transform-' + strftime(\"%Y-%m-%d-%H-%M-%S\", gmtime())\n",
    "\n",
    "#upload sample data to S3\n",
    "input_location = 's3://{}/{}/input/{}'.format(bucket, prefix, data_file)\n",
    "output_location = 's3://{}/{}/output/{}'.format(bucket, prefix, batch_job_name)"
   ]
  },
  {
   "cell_type": "code",
   "execution_count": 106,
   "metadata": {},
   "outputs": [],
   "source": [
    "from sagemaker.transformer import Transformer\n",
    "\n",
    "##指定model_name,实例的数量和机型\n",
    "tfm_transformer = Transformer(model_name='demo-model-1', \n",
    "                  instance_count=1, \n",
    "                  instance_type='ml.m4.xlarge', \n",
    "                  strategy=None, \n",
    "                  accept=\"text/csv\",\n",
    "                  assemble_with=\"Line\",\n",
    "                  output_path='s3://{}/{}/output/{}'.format(bucket, prefix, batch_job_name), \n",
    "                  max_concurrent_transforms=None, \n",
    "                  max_payload=None, \n",
    "                  tags=None, \n",
    "                  env=None, \n",
    "                  base_transform_job_name=batch_job_name, \n",
    "                  sagemaker_session=None)"
   ]
  },
  {
   "cell_type": "markdown",
   "metadata": {},
   "source": [
    "# 6. 创建Step Functions Step"
   ]
  },
  {
   "cell_type": "markdown",
   "metadata": {},
   "source": [
    "## 6.1 创建Glue Step，指定glue job name"
   ]
  },
  {
   "cell_type": "code",
   "execution_count": 107,
   "metadata": {},
   "outputs": [],
   "source": [
    "etl_step = steps.GlueStartJobRunStep(\n",
    "    'Extract, Transform, Load',\n",
    "    parameters={\"JobName\":'glue-demo-job-0223',\n",
    "               }\n",
    ")"
   ]
  },
  {
   "cell_type": "markdown",
   "metadata": {},
   "source": [
    "## 6.2 创建Batch Transform Step，指定job name和 model_name"
   ]
  },
  {
   "cell_type": "code",
   "execution_count": null,
   "metadata": {},
   "outputs": [],
   "source": [
    "transform_step = steps.TransformStep(\n",
    "    'BatchPredictionStep',\n",
    "    tfm_transformer,\n",
    "    job_name='Batch-Transform-anytime', \n",
    "    model_name='demo-model-1',\n",
    "    data='s3://{}/{}/input/{}'.format(bucket, prefix, data_file),\n",
    "    content_type=\"text/csv\",\n",
    "    data_type='S3Prefix',\n",
    "    split_type=\"Line\",\n",
    "    input_filter = \"$[1:72]\",\n",
    "    join_source='Input', \n",
    "    output_filter=\"$[0,-1]\"\n",
    ")"
   ]
  },
  {
   "cell_type": "markdown",
   "metadata": {},
   "source": [
    "## 6.3 串联上述步骤"
   ]
  },
  {
   "cell_type": "code",
   "execution_count": 109,
   "metadata": {},
   "outputs": [],
   "source": [
    "from stepfunctions.steps.fields import Field"
   ]
  },
  {
   "cell_type": "code",
   "execution_count": null,
   "metadata": {},
   "outputs": [],
   "source": [
    "attrs=getattr(etl_step, \"fields\")\n",
    "print(attrs)\n",
    "attrs[Field.Resource.value] = \"arn:aws-cn:states:::glue:startJobRun.sync\"\n",
    "setattr(etl_step, \"fields\", attrs)\n",
    "print(attrs)"
   ]
  },
  {
   "cell_type": "code",
   "execution_count": null,
   "metadata": {},
   "outputs": [],
   "source": [
    "attrs=getattr(transform_step, \"fields\")\n",
    "attrs[Field.Resource.value] = \"arn:aws-cn:states:::sagemaker:createTransformJob.sync\"\n",
    "setattr(transform_step, \"fields\", attrs)\n",
    "print(attrs)"
   ]
  },
  {
   "cell_type": "code",
   "execution_count": 110,
   "metadata": {},
   "outputs": [],
   "source": [
    "workflow_definition = steps.Chain([\n",
    "    etl_step,\n",
    "    transform_step\n",
    "])"
   ]
  },
  {
   "cell_type": "markdown",
   "metadata": {},
   "source": [
    "# 7. 运行上述workflow，指定workflow name"
   ]
  },
  {
   "cell_type": "code",
   "execution_count": 114,
   "metadata": {},
   "outputs": [],
   "source": [
    "workflow = Workflow(\n",
    "    name='MyInferenceRoutine01',\n",
    "    definition=workflow_definition,\n",
    "    role=workflow_execution_role,\n",
    ")"
   ]
  },
  {
   "cell_type": "code",
   "execution_count": null,
   "metadata": {},
   "outputs": [],
   "source": [
    "workflow.render_graph()"
   ]
  },
  {
   "cell_type": "code",
   "execution_count": null,
   "metadata": {},
   "outputs": [],
   "source": [
    "workflow.create()"
   ]
  },
  {
   "cell_type": "code",
   "execution_count": null,
   "metadata": {},
   "outputs": [],
   "source": [
    "execution = workflow.execute()"
   ]
  },
  {
   "cell_type": "code",
   "execution_count": 118,
   "metadata": {},
   "outputs": [
    {
     "data": {
      "text/html": [
       "\n",
       "<link rel=\"stylesheet\" type=\"text/css\" href=\"https://do0of8uwbahzz.cloudfront.net/graph.css\">\n",
       "<div id=\"graph-771\" class=\"workflowgraph\">\n",
       "    \n",
       "    <style>\n",
       "        .graph-legend ul {\n",
       "            list-style-type: none;\n",
       "            padding: 10px;\n",
       "            padding-left: 0;\n",
       "            margin: 0;\n",
       "            position: absolute;\n",
       "            top: 0;\n",
       "            background: transparent;\n",
       "        }\n",
       "\n",
       "        .graph-legend li {\n",
       "            margin-left: 10px;\n",
       "            display: inline-block;\n",
       "        }\n",
       "\n",
       "        .graph-legend li > div {\n",
       "            width: 10px;\n",
       "            height: 10px;\n",
       "            display: inline-block;\n",
       "        }\n",
       "\n",
       "        .graph-legend .success { background-color: #2BD62E }\n",
       "        .graph-legend .failed { background-color: #DE322F }\n",
       "        .graph-legend .cancelled { background-color: #DDDDDD }\n",
       "        .graph-legend .in-progress { background-color: #53C9ED }\n",
       "        .graph-legend .caught-error { background-color: #FFA500 }\n",
       "    </style>\n",
       "    <div class=\"graph-legend\">\n",
       "        <ul>\n",
       "            <li>\n",
       "                <div class=\"success\"></div>\n",
       "                <span>Success</span>\n",
       "            </li>\n",
       "            <li>\n",
       "                <div class=\"failed\"></div>\n",
       "                <span>Failed</span>\n",
       "            </li>\n",
       "            <li>\n",
       "                <div class=\"cancelled\"></div>\n",
       "                <span>Cancelled</span>\n",
       "            </li>\n",
       "            <li>\n",
       "                <div class=\"in-progress\"></div>\n",
       "                <span>In Progress</span>\n",
       "            </li>\n",
       "            <li>\n",
       "                <div class=\"caught-error\"></div>\n",
       "                <span>Caught Error</span>\n",
       "            </li>\n",
       "        </ul>\n",
       "    </div>\n",
       "\n",
       "    <svg></svg>\n",
       "    <a href=\"https://console.aws.amazon.com/states/home?region=cn-north-1#/executions/details/arn:aws-cn:states:cn-north-1:685095924131:execution:MyInferenceRoutine003:74193d3e-7f70-4556-b864-0f99dfe40875\" target=\"_blank\"> Inspect in AWS Step Functions </a>\n",
       "</div>\n",
       "\n",
       "<script type=\"text/javascript\">\n",
       "\n",
       "require.config({\n",
       "    paths: {\n",
       "        sfn: \"https://do0of8uwbahzz.cloudfront.net/sfn\",\n",
       "    }\n",
       "});\n",
       "\n",
       "require(['sfn'], function(sfn) {\n",
       "    var element = document.getElementById('graph-771')\n",
       "\n",
       "    var options = {\n",
       "        width: parseFloat(getComputedStyle(element, null).width.replace(\"px\", \"\")),\n",
       "        height: 1000,\n",
       "        layout: 'LR',\n",
       "        resizeHeight: true\n",
       "    };\n",
       "\n",
       "    var definition = {\"StartAt\": \"Extract, Transform, Load\", \"States\": {\"Extract, Transform, Load\": {\"Parameters\": {\"JobName\": \"glue-demo-job-0223\"}, \"Resource\": \"arn:aws:states:::glue:startJobRun.sync\", \"Type\": \"Task\", \"Next\": \"BatchPredictionStep\"}, \"BatchPredictionStep\": {\"Resource\": \"arn:aws:states:::sagemaker:createTransformJob.sync\", \"Parameters\": {\"TransformJobName\": \"Batch-Transform-anytime\", \"ModelName\": \"jsfund-model-1\", \"TransformInput\": {\"DataSource\": {\"S3DataSource\": {\"S3DataType\": \"S3Prefix\", \"S3Uri\": \"s3://sagemaker-cn-north-1-685095924131/jsfund/input/sample_data_noheader.csv\"}}, \"ContentType\": \"text/csv\", \"SplitType\": \"Line\"}, \"TransformOutput\": {\"S3OutputPath\": \"s3://sagemaker-cn-north-1-685095924131/jsfund/output/Batch-Transform-2021-05-14-03-10-53\", \"AssembleWith\": \"Line\", \"Accept\": \"text/csv\"}, \"TransformResources\": {\"InstanceCount\": 1, \"InstanceType\": \"ml.m4.xlarge\"}, \"DataProcessing\": {\"InputFilter\": \"$[1:72]\", \"OutputFilter\": \"$[0,-1]\", \"JoinSource\": \"Input\"}}, \"Type\": \"Task\", \"End\": true}}};\n",
       "    var elementId = '#graph-771';\n",
       "    var events = { 'events': [{\"timestamp\": 1620961887.484, \"type\": \"ExecutionStarted\", \"id\": 1, \"previousEventId\": 0, \"executionStartedEventDetails\": {\"input\": \"{}\", \"inputDetails\": {\"truncated\": false}, \"roleArn\": \"arn:aws-cn:iam::685095924131:role/StepFunctionsWorkflowExecutionRole\"}}, {\"timestamp\": 1620961887.544, \"type\": \"TaskStateEntered\", \"id\": 2, \"previousEventId\": 0, \"stateEnteredEventDetails\": {\"name\": \"Extract, Transform, Load\", \"input\": \"{}\", \"inputDetails\": {\"truncated\": false}}}, {\"timestamp\": 1620961887.544, \"type\": \"ExecutionFailed\", \"id\": 3, \"previousEventId\": 0, \"executionFailedEventDetails\": {\"error\": \"States.Runtime\", \"cause\": \"An error occurred while executing the state 'Extract, Transform, Load' (entered at the event id #2). The resource belongs to a different partition from the running execution.\"}}] };\n",
       "\n",
       "    var graph = new sfn.StateMachineExecutionGraph(definition, events, elementId, options);\n",
       "    graph.render();\n",
       "});\n",
       "\n",
       "</script>\n"
      ],
      "text/plain": [
       "<IPython.core.display.HTML object>"
      ]
     },
     "execution_count": 118,
     "metadata": {},
     "output_type": "execute_result"
    }
   ],
   "source": [
    "execution.render_progress()"
   ]
  },
  {
   "cell_type": "code",
   "execution_count": null,
   "metadata": {},
   "outputs": [],
   "source": [
    "execution.list_events(html=False)"
   ]
  },
  {
   "cell_type": "code",
   "execution_count": null,
   "metadata": {},
   "outputs": [],
   "source": [
    "workflow.list_executions(html=True)"
   ]
  },
  {
   "cell_type": "code",
   "execution_count": null,
   "metadata": {},
   "outputs": [],
   "source": [
    "Workflow.list_workflows(html=True)"
   ]
  }
 ],
 "metadata": {
  "kernelspec": {
   "display_name": "conda_python3",
   "language": "python",
   "name": "conda_python3"
  },
  "language_info": {
   "codemirror_mode": {
    "name": "ipython",
    "version": 3
   },
   "file_extension": ".py",
   "mimetype": "text/x-python",
   "name": "python",
   "nbconvert_exporter": "python",
   "pygments_lexer": "ipython3",
   "version": "3.6.13"
  }
 },
 "nbformat": 4,
 "nbformat_minor": 4
}
